{
 "cells": [
  {
   "cell_type": "markdown",
   "metadata": {
    "deletable": true,
    "editable": true
   },
   "source": [
    "# This notebook solves the Huggett Model (1993) using Dolo."
   ]
  },
  {
   "cell_type": "markdown",
   "metadata": {},
   "source": [
    "This is a heterogeneous-agent model where each period agents are hit with idiosyncratic income shocks $y_t$ that follow an $AR1$ process. There are incomplete markets and agents only have access to a risk-free asset $s_t$ that pays $(1+r)s_t$ next period, where $r$ is the interest rate.\n",
    "\n",
    "The value function for an agent with current assets $s$ and current income $y$ is: $v(y,s)=\\max_{c,s'} u(c)+\\beta \\mathbf{E}v(y',s')$ where the expectation is taken over the value of the income shock.\n",
    "\n",
    "The agent's budget constraint is: $c+s'=(1+r)s+y$ where s' is his asset choice next period. The agent will also be subject to a borrowing constraint: $s'\\geq \\bar{s}$.\n",
    "\n",
    "Here, we define the control in the model as $a=s'-s$, i.e. $a$ is the change in assets.\n"
   ]
  },
  {
   "cell_type": "code",
   "execution_count": 1,
   "metadata": {
    "collapsed": false,
    "deletable": true,
    "editable": true
   },
   "outputs": [
    {
     "name": "stderr",
     "output_type": "stream",
     "text": [
      "\u001b[1m\u001b[31mWARNING: Using Calculus.jl for symbolic differentiation. This will be slower than SymEngine.jl\n",
      ". To use SymEngine call Pkg.add(\"SymEngine\")\u001b[0m\n"
     ]
    }
   ],
   "source": [
    "# First import the packages\n",
    "Pkg.dir(\"Dolo\")\n",
    "import Dolo\n",
    "using AxisArrays\n",
    "using PyPlot"
   ]
  },
  {
   "cell_type": "code",
   "execution_count": 2,
   "metadata": {
    "collapsed": false,
    "deletable": true,
    "editable": true
   },
   "outputs": [
    {
     "data": {
      "text/plain": [
       "\"huggett_1993.yaml\""
      ]
     },
     "execution_count": 2,
     "metadata": {},
     "output_type": "execute_result"
    }
   ],
   "source": [
    "# get the model file\n",
    "filename=(\"huggett_1993.yaml\")"
   ]
  },
  {
   "cell_type": "code",
   "execution_count": 3,
   "metadata": {
    "collapsed": false,
    "deletable": true,
    "editable": true
   },
   "outputs": [
    {
     "name": "stdout",
     "output_type": "stream",
     "text": [
      "Model \n"
     ]
    },
    {
     "ename": "MethodError",
     "evalue": "MethodError: no method matching sanitize(::Expr, ::Dolo.Model{Symbol(\"##336\")})\u001b[0m\nClosest candidates are:\n  sanitize(::Expr, \u001b[1m\u001b[31m::Array{Symbol,1}\u001b[0m) at C:\\Users\\Angela\\AppData\\Local\\JuliaPro-0.5.1.1\\pkgs-0.5.1.1\\v0.5\\Dolo\\src\\printing.jl:14\n  sanitize(::Any, \u001b[1m\u001b[31m::Array{Symbol,1}\u001b[0m) at C:\\Users\\Angela\\AppData\\Local\\JuliaPro-0.5.1.1\\pkgs-0.5.1.1\\v0.5\\Dolo\\src\\printing.jl:3\n  sanitize(::Any, \u001b[1m\u001b[31m::Dolo.SModel{ID}\u001b[0m) at C:\\Users\\Angela\\AppData\\Local\\JuliaPro-0.5.1.1\\pkgs-0.5.1.1\\v0.5\\Dolo\\src\\printing.jl:32\u001b[0m",
     "output_type": "error",
     "traceback": [
      "MethodError: no method matching sanitize(::Expr, ::Dolo.Model{Symbol(\"##336\")})\u001b[0m\nClosest candidates are:\n  sanitize(::Expr, \u001b[1m\u001b[31m::Array{Symbol,1}\u001b[0m) at C:\\Users\\Angela\\AppData\\Local\\JuliaPro-0.5.1.1\\pkgs-0.5.1.1\\v0.5\\Dolo\\src\\printing.jl:14\n  sanitize(::Any, \u001b[1m\u001b[31m::Array{Symbol,1}\u001b[0m) at C:\\Users\\Angela\\AppData\\Local\\JuliaPro-0.5.1.1\\pkgs-0.5.1.1\\v0.5\\Dolo\\src\\printing.jl:3\n  sanitize(::Any, \u001b[1m\u001b[31m::Dolo.SModel{ID}\u001b[0m) at C:\\Users\\Angela\\AppData\\Local\\JuliaPro-0.5.1.1\\pkgs-0.5.1.1\\v0.5\\Dolo\\src\\printing.jl:32\u001b[0m",
      "",
      " in show(::IOContext{Base.AbstractIOBuffer{Array{UInt8,1}}}, ::MIME{Symbol(\"text/html\")}, ::Dolo.Model{Symbol(\"##336\")}) at C:\\Users\\Angela\\AppData\\Local\\JuliaPro-0.5.1.1\\pkgs-0.5.1.1\\v0.5\\Dolo\\src\\printing.jl:75",
      " in limitstringmime(::MIME{Symbol(\"text/html\")}, ::Dolo.Model{Symbol(\"##336\")}) at C:\\Users\\Angela\\AppData\\Local\\JuliaPro-0.5.1.1\\pkgs-0.5.1.1\\v0.5\\IJulia\\src\\inline.jl:25",
      " in display_dict(::Dolo.Model{Symbol(\"##336\")}) at C:\\Users\\Angela\\AppData\\Local\\JuliaPro-0.5.1.1\\pkgs-0.5.1.1\\v0.5\\IJulia\\src\\execute_request.jl:40",
      " in execute_request(::ZMQ.Socket, ::IJulia.Msg) at C:\\Users\\Angela\\AppData\\Local\\JuliaPro-0.5.1.1\\pkgs-0.5.1.1\\v0.5\\IJulia\\src\\execute_request.jl:188",
      " in eventloop(::ZMQ.Socket) at C:\\Users\\Angela\\AppData\\Local\\JuliaPro-0.5.1.1\\pkgs-0.5.1.1\\v0.5\\IJulia\\src\\eventloop.jl:8",
      " in (::IJulia.##13#19)() at .\\task.jl:360"
     ]
    }
   ],
   "source": [
    "# Convert the file into Dolo model\n",
    "model=Dolo.yaml_import(filename)"
   ]
  },
  {
   "cell_type": "markdown",
   "metadata": {
    "deletable": true,
    "editable": true
   },
   "source": [
    "Now let's look at solving the model. We will use Dolo's time iteration function (which iterates on the residuals of the arbitrage equation)."
   ]
  },
  {
   "cell_type": "code",
   "execution_count": 4,
   "metadata": {
    "collapsed": false,
    "deletable": true,
    "editable": true
   },
   "outputs": [
    {
     "name": "stdout",
     "output_type": "stream",
     "text": [
      "It    SA          gain        nit  \n",
      "-----------------------------------\n",
      "0     1.11e+00    NaN         0    \n",
      "1     1.42e+00    1.28e+00    5    \n",
      "2     8.12e-01    5.71e-01    4    \n",
      "3     4.94e-01    6.08e-01    4    \n",
      "4     3.19e-01    6.46e-01    4    \n",
      "5     2.16e-01    6.79e-01    3    \n",
      "6     1.53e-01    7.05e-01    3    \n",
      "7     1.11e-01    7.27e-01    3    \n",
      "8     8.27e-02    7.45e-01    3    \n",
      "9     6.29e-02    7.61e-01    3    \n",
      "10    4.87e-02    7.74e-01    3    \n",
      "11    3.82e-02    7.85e-01    3    \n",
      "12    3.04e-02    7.95e-01    3    \n",
      "13    2.54e-02    8.36e-01    3    \n",
      "14    2.38e-02    9.35e-01    3    \n",
      "15    2.25e-02    9.49e-01    2    \n",
      "16    2.11e-02    9.35e-01    2    \n",
      "17    1.98e-02    9.40e-01    2    \n",
      "18    1.86e-02    9.41e-01    2    \n",
      "19    1.73e-02    9.30e-01    2    \n",
      "20    1.63e-02    9.40e-01    2    \n",
      "21    1.51e-02    9.29e-01    2    \n",
      "22    1.41e-02    9.33e-01    2    \n",
      "23    1.31e-02    9.29e-01    2    \n",
      "24    1.22e-02    9.29e-01    2    \n",
      "25    1.13e-02    9.30e-01    2    \n",
      "26    1.05e-02    9.30e-01    2    \n",
      "27    9.79e-03    9.30e-01    2    \n",
      "28    9.12e-03    9.31e-01    2    \n",
      "29    8.50e-03    9.32e-01    2    \n",
      "30    7.94e-03    9.34e-01    2    \n",
      "31    7.43e-03    9.37e-01    2    \n",
      "32    6.99e-03    9.40e-01    2    \n",
      "33    6.60e-03    9.44e-01    2    \n",
      "34    6.26e-03    9.49e-01    2    \n",
      "35    5.97e-03    9.54e-01    2    \n",
      "36    5.73e-03    9.60e-01    2    \n",
      "37    5.54e-03    9.66e-01    2    \n",
      "38    5.39e-03    9.73e-01    2    \n",
      "39    5.60e-03    1.04e+00    2    \n",
      "40    6.05e-03    1.08e+00    2    \n",
      "41    6.49e-03    1.07e+00    2    \n",
      "42    6.94e-03    1.07e+00    2    \n",
      "43    7.39e-03    1.06e+00    2    \n",
      "44    7.84e-03    1.06e+00    2    \n",
      "45    8.29e-03    1.06e+00    2    \n",
      "46    8.75e-03    1.05e+00    2    \n",
      "47    9.20e-03    1.05e+00    2    \n",
      "48    9.65e-03    1.05e+00    2    \n",
      "49    1.01e-02    1.05e+00    2    \n",
      "50    1.05e-02    1.04e+00    2    \n",
      "51    1.10e-02    1.04e+00    2    \n",
      "52    1.14e-02    1.04e+00    2    \n",
      "53    1.19e-02    1.04e+00    2    \n",
      "54    1.23e-02    1.04e+00    2    \n",
      "55    1.27e-02    1.03e+00    2    \n",
      "56    1.31e-02    1.03e+00    2    \n",
      "57    1.35e-02    1.03e+00    2    \n",
      "58    1.39e-02    1.03e+00    2    \n",
      "59    1.43e-02    1.03e+00    2    \n",
      "60    1.47e-02    1.03e+00    2    \n",
      "61    1.51e-02    1.03e+00    2    \n",
      "62    1.55e-02    1.03e+00    2    \n",
      "63    1.59e-02    1.02e+00    2    \n",
      "64    1.62e-02    1.02e+00    2    \n",
      "65    1.66e-02    1.02e+00    2    \n",
      "66    1.70e-02    1.02e+00    2    \n",
      "67    1.73e-02    1.02e+00    2    \n",
      "68    1.77e-02    1.02e+00    2    \n",
      "69    1.81e-02    1.02e+00    2    \n",
      "70    1.84e-02    1.02e+00    2    \n",
      "71    1.88e-02    1.02e+00    2    \n",
      "72    1.91e-02    1.02e+00    2    \n",
      "73    1.95e-02    1.02e+00    2    \n",
      "74    1.99e-02    1.02e+00    2    \n",
      "75    2.02e-02    1.02e+00    2    \n",
      "76    2.06e-02    1.02e+00    2    \n",
      "77    2.10e-02    1.02e+00    2    \n",
      "78    2.13e-02    1.02e+00    2    \n",
      "79    2.17e-02    1.02e+00    2    \n",
      "80    2.21e-02    1.02e+00    2    \n",
      "81    2.24e-02    1.02e+00    2    \n",
      "82    2.28e-02    1.02e+00    2    \n",
      "83    2.32e-02    1.02e+00    2    \n",
      "84    2.36e-02    1.02e+00    2    \n",
      "85    2.39e-02    1.02e+00    2    \n",
      "86    2.43e-02    1.02e+00    2    \n",
      "87    2.47e-02    1.02e+00    2    \n",
      "88    2.51e-02    1.01e+00    2    \n",
      "89    2.54e-02    1.01e+00    2    \n",
      "90    2.57e-02    1.01e+00    2    \n",
      "91    2.61e-02    1.01e+00    2    \n",
      "92    2.64e-02    1.01e+00    2    \n",
      "93    2.66e-02    1.01e+00    2    \n",
      "94    2.69e-02    1.01e+00    2    \n",
      "95    2.71e-02    1.01e+00    2    \n",
      "96    2.72e-02    1.01e+00    2    \n",
      "97    2.73e-02    1.00e+00    2    \n",
      "98    2.74e-02    1.00e+00    2    \n",
      "99    2.74e-02    1.00e+00    2    \n",
      "100   2.73e-02    9.97e-01    2    \n",
      "101   2.72e-02    9.95e-01    2    \n",
      "102   2.70e-02    9.92e-01    2    \n",
      "103   2.67e-02    9.90e-01    2    \n",
      "104   2.63e-02    9.87e-01    2    \n",
      "105   2.59e-02    9.84e-01    2    \n",
      "106   2.54e-02    9.81e-01    2    \n",
      "107   2.48e-02    9.78e-01    2    \n",
      "108   2.42e-02    9.75e-01    2    \n",
      "109   2.35e-02    9.72e-01    2    \n",
      "110   2.28e-02    9.69e-01    2    \n",
      "111   2.20e-02    9.66e-01    2    \n",
      "112   2.12e-02    9.63e-01    2    \n",
      "113   2.04e-02    9.60e-01    2    \n",
      "114   1.95e-02    9.58e-01    2    \n",
      "115   1.86e-02    9.55e-01    2    \n",
      "116   1.77e-02    9.52e-01    2    \n",
      "117   1.69e-02    9.50e-01    2    \n",
      "118   1.60e-02    9.48e-01    2    \n",
      "119   1.51e-02    9.45e-01    2    \n",
      "120   1.42e-02    9.43e-01    2    \n",
      "121   1.34e-02    9.41e-01    2    \n",
      "122   1.26e-02    9.39e-01    2    \n",
      "123   1.18e-02    9.38e-01    2    \n",
      "124   1.11e-02    9.36e-01    2    \n",
      "125   1.03e-02    9.35e-01    2    \n",
      "126   9.64e-03    9.33e-01    2    \n",
      "127   8.99e-03    9.32e-01    2    \n",
      "128   8.37e-03    9.31e-01    2    \n",
      "129   7.78e-03    9.30e-01    2    \n",
      "130   7.22e-03    9.29e-01    2    \n",
      "131   6.70e-03    9.28e-01    2    \n",
      "132   6.21e-03    9.27e-01    2    \n",
      "133   5.75e-03    9.26e-01    2    \n",
      "134   5.33e-03    9.26e-01    2    \n",
      "135   4.93e-03    9.25e-01    2    \n",
      "136   4.55e-03    9.24e-01    2    \n",
      "137   4.21e-03    9.24e-01    2    \n",
      "138   3.88e-03    9.23e-01    2    \n",
      "139   3.58e-03    9.23e-01    2    \n",
      "140   3.31e-03    9.23e-01    2    \n",
      "141   3.05e-03    9.22e-01    2    \n",
      "142   2.81e-03    9.22e-01    2    \n",
      "143   2.59e-03    9.22e-01    2    \n",
      "144   2.39e-03    9.21e-01    2    \n",
      "145   2.20e-03    9.21e-01    2    \n",
      "146   2.03e-03    9.21e-01    1    \n",
      "147   1.87e-03    9.21e-01    1    \n",
      "148   1.72e-03    9.21e-01    1    \n",
      "149   1.58e-03    9.20e-01    1    \n",
      "150   1.46e-03    9.20e-01    1    \n",
      "151   1.34e-03    9.20e-01    1    \n",
      "152   1.23e-03    9.20e-01    1    \n",
      "153   1.13e-03    9.20e-01    1    \n",
      "154   1.04e-03    9.20e-01    1    \n",
      "155   9.60e-04    9.20e-01    1    \n",
      "156   8.83e-04    9.20e-01    1    \n",
      "157   8.12e-04    9.20e-01    1    \n",
      "158   7.47e-04    9.20e-01    1    \n",
      "159   6.87e-04    9.20e-01    1    \n",
      "160   6.32e-04    9.20e-01    1    \n",
      "161   5.82e-04    9.20e-01    1    \n",
      "162   5.35e-04    9.20e-01    1    \n",
      "163   4.92e-04    9.20e-01    1    \n",
      "164   4.52e-04    9.20e-01    1    \n",
      "165   4.16e-04    9.20e-01    1    \n",
      "166   3.83e-04    9.20e-01    1    \n",
      "167   3.52e-04    9.20e-01    1    \n",
      "168   3.24e-04    9.20e-01    1    \n",
      "169   2.98e-04    9.20e-01    1    \n",
      "170   2.74e-04    9.20e-01    1    \n",
      "171   2.52e-04    9.20e-01    1    \n",
      "172   2.32e-04    9.20e-01    1    \n",
      "173   2.13e-04    9.20e-01    1    \n",
      "174   1.96e-04    9.20e-01    1    \n",
      "175   1.80e-04    9.20e-01    1    \n",
      "176   1.66e-04    9.20e-01    1    \n",
      "177   1.52e-04    9.20e-01    1    \n",
      "178   1.40e-04    9.20e-01    1    \n",
      "179   1.29e-04    9.20e-01    1    \n",
      "180   1.18e-04    9.20e-01    1    \n",
      "181   1.09e-04    9.20e-01    1    \n",
      "182   1.00e-04    9.20e-01    1    \n",
      "183   9.21e-05    9.20e-01    1    \n",
      "184   8.47e-05    9.20e-01    1    \n",
      "185   7.79e-05    9.20e-01    1    \n",
      "186   7.16e-05    9.20e-01    1    \n",
      "187   6.59e-05    9.20e-01    1    \n",
      "188   6.06e-05    9.20e-01    1    \n",
      "189   5.57e-05    9.20e-01    1    \n",
      "190   5.12e-05    9.20e-01    1    \n",
      "191   4.71e-05    9.20e-01    1    \n",
      "192   4.33e-05    9.20e-01    1    \n",
      "193   3.98e-05    9.20e-01    1    \n",
      "194   3.66e-05    9.20e-01    1    \n",
      "195   3.37e-05    9.20e-01    1    \n",
      "196   3.10e-05    9.20e-01    1    \n",
      "197   2.85e-05    9.20e-01    1    \n",
      "198   2.62e-05    9.20e-01    1    \n",
      "199   2.41e-05    9.20e-01    1    \n",
      "200   2.21e-05    9.20e-01    1    \n",
      "201   2.04e-05    9.20e-01    1    \n",
      "202   1.87e-05    9.20e-01    1    \n",
      "203   1.72e-05    9.20e-01    1    \n",
      "204   1.58e-05    9.20e-01    1    \n",
      "205   1.46e-05    9.20e-01    1    \n",
      "206   1.34e-05    9.20e-01    1    \n",
      "207   1.23e-05    9.20e-01    1    \n",
      "208   1.13e-05    9.20e-01    1    \n",
      "209   1.04e-05    9.20e-01    1    \n",
      "210   9.58e-06    9.20e-01    1    \n",
      "211   8.81e-06    9.20e-01    1    \n",
      "212   8.10e-06    9.20e-01    1    \n",
      "213   7.45e-06    9.20e-01    1    \n",
      "214   6.85e-06    9.20e-01    1    \n",
      "215   6.30e-06    9.20e-01    1    \n",
      "216   5.79e-06    9.20e-01    1    \n",
      "217   5.33e-06    9.20e-01    1    \n",
      "218   4.90e-06    9.20e-01    1    \n",
      "219   4.50e-06    9.20e-01    1    \n",
      "220   4.14e-06    9.20e-01    1    \n",
      "221   3.81e-06    9.20e-01    1    \n",
      "222   3.50e-06    9.20e-01    1    \n",
      "223   3.22e-06    9.20e-01    1    \n",
      "224   2.96e-06    9.20e-01    1    \n",
      "225   2.72e-06    9.20e-01    1    \n",
      "226   2.50e-06    9.20e-01    1    \n",
      "227   2.30e-06    9.20e-01    1    \n",
      "228   2.12e-06    9.20e-01    1    \n",
      "229   1.95e-06    9.20e-01    1    \n",
      "230   1.79e-06    9.20e-01    1    \n",
      "231   1.65e-06    9.20e-01    1    \n",
      "232   1.51e-06    9.20e-01    1    \n",
      "233   1.39e-06    9.20e-01    1    \n",
      "234   1.28e-06    9.20e-01    1    \n",
      "235   1.18e-06    9.20e-01    1    \n",
      "236   0.00e+00    0.00e+00    0    \n",
      " 15.609431 seconds (25.56 M allocations: 1.637 GB, 2.39% gc time)\n",
      "It    SA          gain        nit  \n",
      "-----------------------------------\n",
      "0     1.32e-01    NaN         0    \n",
      "1     0.00e+00    0.00e+00    0    \n",
      "  1.111583 seconds (686.69 k allocations: 26.390 MB, 1.53% gc time)\n"
     ]
    },
    {
     "data": {
      "text/plain": [
       "Results of Time Iteration Algorithm\n",
       " * Complementarities: true\n",
       " * Decision Rule type: Dolo.TimeIterationResult\n",
       " * Number of iterations: 1\n",
       " * Convergence: true\n",
       "   * |x - x'| < 1.0e-08: true\n"
      ]
     },
     "execution_count": 4,
     "metadata": {},
     "output_type": "execute_result"
    }
   ],
   "source": [
    "@time sol=Dolo.time_iteration(model,verbose=true, maxit=1000, details=true)\n",
    "dr=sol.dr\n",
    "@time res = Dolo.time_iteration(model, dr; maxit=200, details=true)"
   ]
  },
  {
   "cell_type": "markdown",
   "metadata": {
    "deletable": true,
    "editable": true
   },
   "source": [
    "Dolo tabulate gives us the decision rules."
   ]
  },
  {
   "cell_type": "code",
   "execution_count": 5,
   "metadata": {
    "collapsed": false,
    "deletable": true,
    "editable": true
   },
   "outputs": [
    {
     "data": {
      "text/plain": [
       "2-dimensional AxisArray{Float64,2,...} with axes:\n",
       "    :V, Symbol[:lny,:s,:a]\n",
       "    :s, [-2.0,-1.77778,-1.55556,-1.33333,-1.11111,-0.888889,-0.666667,-0.444444,-0.222222,0.0  …  18.0,18.2222,18.4444,18.6667,18.8889,19.1111,19.3333,19.5556,19.7778,20.0]\n",
       "And data, a 3×100 Array{Float64,2}:\n",
       "  0.0        0.0        0.0        0.0      …   0.0        0.0        0.0    \n",
       " -2.0       -1.77778   -1.55556   -1.33333     19.5556    19.7778    20.0    \n",
       "  0.271821   0.241945   0.212451   0.18372     -0.897489  -0.905228  -0.91296"
      ]
     },
     "execution_count": 5,
     "metadata": {},
     "output_type": "execute_result"
    }
   ],
   "source": [
    "drtab = Dolo.tabulate(model, dr, :s) "
   ]
  },
  {
   "cell_type": "markdown",
   "metadata": {},
   "source": [
    "Now we plot the consumption policy function. We see that it is concave because of the precautionary savings motive noting as well that there is more curvature closer to the borrowing constraint."
   ]
  },
  {
   "cell_type": "code",
   "execution_count": 12,
   "metadata": {
    "collapsed": false,
    "deletable": true,
    "editable": true
   },
   "outputs": [
    {
     "data": {
      "image/png": "[encoded data removed]",
      "text/plain": [
       "PyPlot.Figure(PyObject <matplotlib.figure.Figure object at 0x00000000240FD6D8>)"
      ]
     },
     "metadata": {},
     "output_type": "display_data"
    },
    {
     "data": {
      "text/plain": [
       "PyObject <matplotlib.text.Text object at 0x00000000241166D8>"
      ]
     },
     "execution_count": 12,
     "metadata": {},
     "output_type": "execute_result"
    }
   ],
   "source": [
    "# Plot the consumption policy function\n",
    "import PyPlot\n",
    "plt=PyPlot\n",
    "r=model.calibration.flat[:r]\n",
    "c=exp(drtab[Axis{:V}(:lny)])+drtab[:s]*r-drtab[Axis{:V}(:a)]\n",
    "\n",
    "plt.plot(drtab[Axis{:V}(:s)],c, color=\"blue\")\n",
    "plt.xlabel(\"Savings\")\n",
    "plt.ylabel(\"Consumption\")\n",
    "plt.title(\"Consumption Policy Function\")"
   ]
  },
  {
   "cell_type": "markdown",
   "metadata": {
    "deletable": true,
    "editable": true
   },
   "source": [
    "### Simulations"
   ]
  },
  {
   "cell_type": "markdown",
   "metadata": {
    "deletable": true,
    "editable": true
   },
   "source": [
    "Here we run simulations for N agents and look at the asset distribution."
   ]
  },
  {
   "cell_type": "code",
   "execution_count": 40,
   "metadata": {
    "collapsed": false,
    "deletable": true,
    "editable": true
   },
   "outputs": [
    {
     "data": {
      "text/html": [
       "200"
      ],
      "text/plain": [
       "200"
      ]
     },
     "execution_count": 40,
     "metadata": {},
     "output_type": "execute_result"
    }
   ],
   "source": [
    "# Simulations\n",
    "import PyPlot\n",
    "plt=PyPlot\n",
    "\n",
    "\n",
    "mc_ar=model.exogenous\n",
    "\n",
    "sim_armc = Dolo.simulate(model,dr;N=1000,T=200)\n",
    "\n",
    "\n",
    "T=200"
   ]
  },
  {
   "cell_type": "code",
   "execution_count": 41,
   "metadata": {
    "collapsed": false,
    "deletable": true,
    "editable": true
   },
   "outputs": [
    {
     "name": "stderr",
     "output_type": "stream",
     "text": [
      "WARNING: Method definition plot_simulations(Int64"
     ]
    },
    {
     "data": {
      "text/plain": [
       "plot_simulations (generic function with 1 method)"
      ]
     },
     "execution_count": 41,
     "metadata": {},
     "output_type": "execute_result"
    }
   ],
   "source": [
    "N=1000\n",
    "n=200 # number of periods to plot\n",
    "hor=linspace(1,n,n)\n",
    "function plot_simulations(N::Int64,T::Int64,n::Int64,sim_armc)\n",
    "    assets_end=zeros(N)\n",
    "    for ii=1:N # number of simulations\n",
    "      c=exp(sim_armc[Axis{:N}(ii), Axis{:V}(:lny)])[T-n+1:T]+sim_armc[Axis{:N}(ii), Axis{:V}(:s)][T-n+1:T]*r-sim_armc[Axis{:N}(ii), Axis{:V}(:a)][T-n+1:T]\n",
    "      \n",
    "        assets_end[ii]=exp(sim_armc[Axis{:N}(ii), Axis{:V}(:lny)])[T]-c[end]\n",
    "    \n",
    "    end\n",
    "\n",
    "    return assets_end\n",
    "end\n",
    "\n",
    "\n"
   ]
  },
  {
   "cell_type": "code",
   "execution_count": 42,
   "metadata": {
    "collapsed": false,
    "deletable": true,
    "editable": true
   },
   "outputs": [
    {
     "name": "stderr",
     "output_type": "stream",
     "text": [
      ", Int64, Int64, Any) in module Main at In[30]:5 overwritten"
     ]
    }
   ],
   "source": [
    "assets_end=plot_simulations(N,T,n,sim_armc);"
   ]
  },
  {
   "cell_type": "markdown",
   "metadata": {
    "deletable": true,
    "editable": true
   },
   "source": [
    "We see that the average asset holdings is very close to zero so we have market clearing."
   ]
  },
  {
   "cell_type": "code",
   "execution_count": 45,
   "metadata": {
    "collapsed": false,
    "deletable": true,
    "editable": true
   },
   "outputs": [
    {
     "data": {
      "text/html": [
       "<img src=\"data:image/png;base64,iVBORw0KGgoAAAANSUhEUgAAAlgAAAGQCAYAAAByNR6YAAAABHNCSVQICAgIfAhkiAAAAAlwSFlzAAAPYQAAD2EBqD+naQAAIABJREFUeJzt3Xl8VPW9//H3hMAEshAJAglkgqzKIgGFi7IEqLQKIiDgwgVJkYILihesLP0pobcFsUDdKmDFgLJUVtGCilA2LdpQFsUEJJiQECZg2LIIIcj5/cHN1DiTBXLmTCa8no/HPB6Zc86c85mvw8zb7/ec87UZhmEIAK4j8fHxWrJkidLS0tS0aVNLj71t2zb17t1b06dPV0JCgmt5cR3p6emW1lMsISFBM2bM0NatW9WrVy+f1ABUJwG+LgDA1Rk9erRsNpsiIiJUWFjo63JKFR8fL5vN5rXAkJCQIJvN5nrUqFFD4eHhatWqlYYNG6bExEQVFBSYftz09HTZbDbFx8ebvm9v2rZtm2w2W4lQB8B7An1dAICKy8vL08qVK2Wz2XT69Gm9//77evDBB31dlk8NGTJE7dq1kyTl5uYqPT1d27Zt0+rVq/XCCy/o3XffdeuRmTVrlqZMmaLGjRtbXm+XLl2UkpKi+vXrW37ssowfP14PPfSQHA6Hr0sBqgUCFuBH3nvvPRUUFGjixIl6+eWXtWjRous+YA0dOlQPPfRQiWWFhYV6+eWXNW3aNN1777365z//qVtvvdW1PjIyUpGRkVaXKkmqU6eObr75Zp8cuyz169evcqEP8GcMEQJ+ZNGiRQoMDNRzzz2n3r17a8uWLTp69KjHbQ8fPqxf//rXuummm2S321WvXj116NBBzzzzjH566qXT6dSECRPUsmVL1a5dW+Hh4brlllv02GOP6dy5cyX2efHiRc2bN0+dOnVScHCwQkND1aNHD33wwQcltmvatKmWLFkiSbrppptcw3g/7Unas2ePhg4dKofDIbvdrhtvvFGdO3fWH//4x0q3k91u1+TJk/XCCy+ooKBAU6ZMKbG+tOHLNWvWKC4uTg0aNFBQUJCioqJ01113ac2aNZKkxYsX66abbpIkLVmypMQQ5bZt2yT9Z+hy27ZtWrx4sTp16qQ6deq43nt5Q3Vnz57VuHHj1KhRIwUFBaljx45asWKF23ZlDcH+tIbi571795YkzZgxo0Tdxa//+Wt+6sMPP1Tv3r1Vt25d1a5dWx06dNC8efN06dKlEtv9dPg0NTVVgwcP1g033KDg4GDddddd2r9/v8f3DFRH9GABfiI5OVlffPGF+vXrp4YNG+qRRx7Rli1blJiY6PZjffz4cXXp0kUFBQXq37+/HnzwQRUUFOjw4cN64403NGfOHAUGBuqHH35Qt27dlJ6erl/+8pcaPHiwLl68qLS0NL377rt69tlnVbduXUlXeoXuvvtubdu2TbGxsXr00UdVVFSkDRs2aODAgXrttdc0fvx4SdIzzzyjxYsXa//+/ZowYYLCw8Ml/edE7n379unOO+9UjRo1NHDgQMXExOjs2bNKTk7Wm2++qd/97nemtNmkSZP00ksv6ZNPPtG5c+dc78WT+fPn64knnlBkZKQGDx6siIgIZWdn61//+pfWrVunIUOGKDY2VhMmTNArr7yiDh06aNCgQa7X//xk+T/96U/aunWrBg4cqF/+8peqUaNGufVevHhRd911l/Lz8zVy5EgVFBRo5cqVGj58uHJycvTUU09dUzv06tVL6enpWrJkieLi4koE3eL/NqWZN2+eJk2apHr16mn48OEKDg7WBx98oEmTJmnnzp1au3atbDZbidekp6era9euatu2rUaPHq0jR45o/fr16t27t1JSUtSwYcNreh+AXzEA+IWJEycakowVK1YYhmEYeXl5RnBwsOFwOIwff/yxxLavvvqqIcl4+eWX3fZz6tQp198ffPCBIcl45pln3LbLy8szLly44Ho+bdo0Q5Lx/PPPG5cvX3Ytz83NNW6//XajVq1aRlZWlmv5qFGjDElGWlpaqe/l/fffd1uXk5NTRiv8x/Tp00u0R2l69OhhSDK2bNlSZm2dOnUyatWqZZw4caLMmtLS0gxJxqhRo8qsKzg42Pjqq6/c1m/dutWQZEyfPr3E8piYGEOS0bNnT6OwsNC1PDMz06hfv75ht9uNY8eOlfkefl7D1q1byz1uWa9JTU01AgMDjQYNGhgZGRmu5RcuXDC6d+9uSDLeeecdt7aRZLz44osl9v///t//MyQZs2bN8nh8oLphiBDwA0VFRXr33XcVFhbm6jUJCQnR4MGDlZGRoc2bN3t8Xe3atd2W1atXr0LbhYSEyG63S5IuX76s+fPnq3nz5q4hpmKhoaF64YUXdPHiRa1du/aq3pen40ZERFzVPsoTFRUlScrJySl325o1a6pmzZqm1DR27Fi1b9/+ql83c+ZM1apVy/W8SZMmmjBhggoLC/W3v/3tqvdXGcuXL9elS5c0adIkRUdHu5bb7XbNnj1b0pVh05+76aab9Nvf/rbEskcffVSSlJSU5L2CgSqEgAX4gfXr1+v777/XsGHDFBQU5Fr+yCOPSLpybtZPDRgwQMHBwXryySf14IMPKjExUd99953bfnv27KnIyEi9+OKL6t+/v+bPn6/k5OQS52hJ0qFDh3TmzBkFBQVpxowZSkhIKPH4+OOPJUkHDx6s0Pt54IEHFBAQoMGDB2v06NFasWKFsrKyrqpNzPbQQw+poKBA7dq1029/+1tt3LhRubm517y/Ll26XPVrAgMDdccdd7gt79GjhyRp796911zPtSg+nqf7Yt1xxx0KCgrSvn373NbFxsYqIKDkz0uTJk0kXTnHDLgecA4W4AeKA1RxoCr2i1/8Qo0bN9b69et1+vRpV+9U06ZN9cUXXyghIUEbN27UypUrJUk333yzfv/732vYsGGSpLp16+qLL77QCy+8oA8//FAbN26UJEVHR2vKlCl64oknJEmnT5+WJH3zzTf65ptvSq2zoved+q//+i9t27ZNM2fO1PLly5WYmChJ6ty5s2bPnu06IdsMx48flyTdeOONZW737LPPKiIiQvPnz9fcuXNd56n1799ff/7zn10nt1fUtZxnVL9+fbdg8tN9/fyiA28rDpie3ovNZlPDhg09BuOwsDC3ZYGBV35ufvzxR5OrBKomerCAKi4zM1ObNm2SJMXFxbndXDMrK0uFhYVaunRpide1a9dOq1ev1unTp7Vr1y698MILys7O1oMPPqjPP//ctZ3D4dDixYv1/fffa+/evZo9e7YuX76sJ5980nX1WvEP5pAhQ2QYRqmP4qBUET169NBHH32kM2fOaOvWrZo4caK+/vpr9e/f32Nv27XIz8/Xv//9b9WoUUOdOnUqc1ubzabRo0crKSlJ33//vdatW6f7779f69ev17333nvVweDnJ35XRE5Oji5fvuy2/MSJE5JU4iT94iD28yv5JPOCWPF/9+Lj/5RhGDpx4oTHMAWAgAVUeYsXL9bly5fVvXt3Pfroo26PUaNGSXIfJixWs2ZNde3aVTNmzNCrr74qwzD097//3W27gIAAxcbG6rnnnnMFq+LbL9xyyy0KCwvT7t27VVRUVKG6i6+aKy+Y1K5dW7169dLcuXM1bdo0nT9/Xp9++mmFjlGeuXPn6ocfftA999xT5hWEPxcREaFBgwbpvffeU58+fZScnKzU1FRJFX9f1+LSpUvatWuX2/KdO3dKkjp27OhadsMNN0iSxx4kT0OJ11J38fE83brhyy+/1IULFxQbG1vh/QHXEwIWUIUV9wrZbDYtWbJEb731lttj8eLFuuOOO/TVV19p9+7dkq6cSHzy5Em3/RX3RBSfx3XgwAGP99H6+XaBgYF6/PHHdfToUT377LMeQ9aBAwdKHLN4uDIzM9Nt2507d3o8v+nnx71WhYWFeumll/T73/9eISEhmjVrVrmv+eSTT9x6g4qKilzDo8U13XDDDbLZbB7flxmmTZumixcvup4fO3ZMr7zyiux2e4kbqnbu3FmS+0nmq1ev1vbt2932W9Z/j9IMHz5cgYGBmjdvnmuoVbpyO4nJkydLkt9NGQRYhXOwgCrsH//4h9LS0hQXF6dmzZqVut2vf/1r7dq1S4sWLdLtt9+uZcuW6Y033lCvXr3UokULhYWFKTk5WRs3blS9evX061//WpK0efNmTZo0Sd26ddPNN9+siIgIfffdd/rggw8UFBSkJ5980nWMGTNmaM+ePXr11Ve1YcMG9ezZUw0aNFBWVpa+/vpr7d+/X7t27VKDBg0kSX369NGcOXM0duxYDRkyRMHBwYqJidHIkSM1d+5cffrpp+rdu7eaNWumoKAg7dmzR1u2bFGzZs00ePDgCrfR6tWrXSfX5+fnKy0tTTt27FBOTo6io6O1dOlS11Q6ZXnwwQdVp04dde/eXTExMSoqKtKnn36q5ORkDR06VDExMZKuXF3ZuXNn7dixQyNHjlTLli0VEBCgkSNHura5VpGRkSooKNCtt96qAQMGuO6DderUKb366qslpvYZOHCgmjdvrsWLFyszM1MdO3ZUSkqK/vGPf6hfv36u8+mK3XzzzYqKitLf/vY32e12NWnSRDabTU899VSpvXvNmzfX7NmzNWnSJN1666164IEHFBwcrA8//FCHDh3SwIEDNWLEiEq9Z6Da8tHtIQBUwMMPP2xIMhITE8vc7ty5c0bt2rWNunXrGj/88IPxxRdfGOPGjTPatWtnhIeHG7Vr1zZatmxpjB8/3jh69KjrdcnJycaECROMjh07GhEREYbdbjeaNWtmjBo1yvjmm2/cjnPp0iVj4cKFRrdu3YywsDDDbrcbDofDuPvuu4358+cb+fn5JbZ/6aWXjJYtWxo1a9Y0JBlxcXGGYRjGxx9/bDzyyCNG69atjdDQUCMkJMRo06aNMW3aNOP777+vUNsU37ep+BEQEGCEhYUZLVq0MIYOHWokJiYaBQUFHl/r6R5Sb7zxhnHfffcZMTExRlBQkBEREWF06dLFmD9/vnHx4sUSrz906JDRr18/Izw83LDZbCXuH+XpflI/VdZ9sGJiYozTp08bY8eONRo2bGjY7XajQ4cOxvLlyz3uKy0tzRg0aJARGhpqBAcHG7/4xS+MpKSkUmv44osvjLi4OCM0NNTVbsVtUFbd69evd73Obrcb7du3N+bOnWsUFRW51aMy7hH2088AUN3ZDONn12MDAACgUjgHCwAAwGQELAAAAJMRsAAAAExGwAIAADCZ1wLW008/raZNm8pms7nmqrpw4YIGDRqkVq1aqUOHDurbt6/r5n2SdPLkSd19991q2bKl2rVrpx07dnirPAAAAK/xWsAaOnSoPvvsM7f7wowdO1aHDh3S/v37NXDgQI0ZM8a1bsqUKeratasOHz6sxMREDR8+vMJ3jQYAAKgqvBawevbs6Zo9vVhQUJD69evnmqOra9euSk9Pd61fuXKlHnvsMUlX7lIcFRXl8Y7EAAAAVZlP7+T+yiuvaODAgZKkU6dOqaioSI0aNXKtb9q0qTIyMkp9fWFhoQoLC13PL1++rNOnTysiIuKaJloFAAC4WoZhKC8vT1FRUa6J2H0WsGbOnKnU1FRt2bLlmvcxa9YszZgxw8SqAAAArk1mZqZr9M4nAWvOnDlau3atNm/erDp16ki6Mnt9YGCgsrOzXb1Y6enpcjgcpe5n6tSpmjhxouv5uXPn5HA49K9//UuRkZHefRPXuby8PLVp00bJyckKDQ31dTnVFu1sHdraOrS1NWhn6zidTnXp0qVEO1sesObNm6cVK1Zo8+bNCg8PL7Fu2LBhWrBggRISEpSUlKSsrCzFxcWVui+73S673e62PDIy0u38L5grNzdXktS4cWOFhYX5uJrqi3a2Dm1tHdraGrSz9X56epLXAta4ceO0YcMGZWdn61e/+pVCQ0O1bds2TZo0Sc2aNVPv3r0lXQlJX375pSRp9uzZrtnpa9WqpaVLl6pmzZreKhEAAMArvBawFi5c6HF5WXNLN2zYUJs2bfJWSQAAAJbgTu4AAAAmI2ABAACYjIAFAABgMgIWAACAyQhYAAAAJiNgAQAAmIyABQAAYDICFgAAgMkIWAAAACYjYAEAAJiMgAUAAGAyAhYAAIDJCFgAAAAmI2ABAACYjIAFAABgMgIWAACAyQhYAAAAJiNgAQAAmIyABQAAYDICFgAAgMkIWAAAACYjYAEAAJiMgAUAAGAyAhYAAIDJCFgAAAAmI2ABAACYjIAFAABgMgIWAACAyQhYAAAAJiNgAQAAmIyABQAAYDICFgAAgMkIWAAAACYjYAEAAJiMgAUAAGAyAhYAAIDJCFgAAAAmI2ABAACYjIAFAABgMgIWAACAyQhYAAAAJiNgAQAAmIyABQAAYDICFgAAgMkIWAAAACYjYAEAAJiMgAUAAGCyQG/t+Omnn9YHH3ygo0ePau/evYqNjZUkHT58WKNGjVJOTo7q1q2rxYsXq23btuWuA/yd0+mU0+ksc5v69evL4XBYVBEAwFu8FrCGDh2q5557Tt27dy+xfNy4cRo7dqzi4+O1evVqxcfHKykpqdx1gD9zOp2Kiooqd7ug2nV06GAKIQsA/JzXAlbPnj3dlp08eVK7d+/Wpk2bJElDhgzR+PHjlZqaqrCwsFLXtWjRwltlApZw9VyNXCA5OnreKDtFFxbFKycnh4AFAH7OawHLk8zMTEVGRiow8MphbTabHA6HMjIyVLdu3VLXlRawCgsLVVhY6Hqem5srScrLy3P9De8obl/auWLy8/Ov/OHoKMWUErB+su3P25d29j7a2jq0tTVoZ+vk5eW5LbM0YJlt1qxZmjFjhtvyNm3a+KCa61N0dLSvS6h24uLi3JbRztahra1DW1uDdvYNSwNWdHS0nE6nLl26pMDAQBmGoYyMDDkcDoWFhZW6rjRTp07VxIkTXc9zc3MVHR2t5ORkNW7c2Iq3dN0qbuvMzEyFhYX5upwqb9++fR6Dkyfbt293XRRCO1uHtrYObW0N2tk6WVlZbp07lgasBg0aqFOnTlq6dKni4+O1Zs0aNWnSxDUEWNY6T+x2u+x2u9vy0NBQPkwWCQsLo60rICQk5Kq2/Xmb0s7Woa2tQ1tbg3b2Pk/DsF4LWOPGjdOGDRuUnZ2tX/3qVwoNDVVqaqoWLlyo+Ph4zZw5U2FhYUpMTHS9pqx1AAAA/sJrAWvhwoUel7du3Vq7du266nUAAAD+gju5AwAAmIyABQAAYDICFgAAgMkIWAAAACYjYAEAAJiMgAUAAGAyAhYAAIDJCFgAAAAmI2ABAACYjIAFAABgMksnewaqM6fTKafT6XFdSkqKxdUAAHyJgAWYwOl0KioqytdlAACqCAIWYAJXz9XIBZKjo/sGBz6S1idYWhMAwHcIWICZHB2lGA8By3nQ+loAAD7DSe4AAAAmI2ABAACYjIAFAABgMgIWAACAyQhYAAAAJiNgAQAAmIyABQAAYDICFgAAgMkIWAAAACYjYAEAAJiMgAUAAGAyAhYAAIDJCFgAAAAmI2ABAACYjIAFAABgMgIWAACAyQhYAAAAJiNgAQAAmIyABQAAYDICFgAAgMkIWAAAACYjYAEAAJiMgAUAAGAyAhYAAIDJCFgAAAAmI2ABAACYjIAFAABgMgIWAACAyQhYAAAAJiNgAQAAmIyABQAAYDICFgAAgMkIWAAAACbzWcDauHGjOnXqpNjYWLVr105LliyRJJ08eVJ33323WrZsqXbt2mnHjh2+KhEAAOCaBPrioIZhaMSIEdq2bZtuvfVWpaen6+abb9b999+vKVOmqGvXrvr444+VlJSkwYMHKy0tTTVr1vRFqQAAAFfNZz1YNptNZ8+elSTl5uYqIiJCdrtdK1eu1GOPPSZJ6ty5s6KiorR9+3ZflQkAAHDVfNKDZbPZ9N577+n+++9XcHCwzpw5o7Vr1yovL09FRUVq1KiRa9umTZsqIyPD434KCwtVWFjoep6bmytJysvLc/0N7yhuX9r5ivz8fNP2tWfPHtf+CgoKJEmff/65goODJUkRERGKjo427Xi4gs+0dWhra9DO1snLy3Nb5pOAdenSJf3hD3/Q2rVr1bNnTyUlJem+++7Tvn37rmo/s2bN0owZM9yWt2nTxqxSUQ5+6E2UlyNJ+s1vfuO2ql+/fv95YguQjMtWVXXd4TNtHdraGrSzb/gkYO3bt0/Hjx9Xz549JV0ZCmzSpIm++uorBQYGKjs729WLlZ6eLofD4XE/U6dO1cSJE13Pc3NzFR0dreTkZDVu3Nj7b+Q6VtzWmZmZCgsL83U5Prdv3z7FxcVVbif5VwKWRi6QHB09b5OdIi2K1/bt2xUbG1u546EEPtPWoa2tQTtbJysry61zxycBKzo6Wk6nUykpKbrllluUmpqqI0eOqHXr1ho2bJgWLFighIQEJSUlKSsrq9QfLrvdLrvd7rY8NDSUD5NFwsLCaGtJISEh5u3M0VGKKSVg/eR4tLt38Jm2Dm1tDdrZ+zwNw/okYDVs2FBvvvmmHnjgAQUEBOjy5ct6/fXX5XA4NHv2bI0cOVItW7ZUrVq1tHTpUq4gBAAAfsUnAUuSHn74YT388MNuyxs2bKhNmzb5oCIAAABzcCd3AAAAkxGwAAAATEbAAgAAMBkBCwAAwGQELAAAAJMRsAAAAExGwAIAADAZAQsAAMBkBCwAAACTEbAAAABMRsACAAAwGQELAADAZAQsAAAAkwX+fEFeXp5CQ0N9UQtQZTmdTjmdzlLXp6SkWFgNAKCqcwtYjRo10rBhwzR69Gj17NnTFzUBVYrT6VRUVJSvywAA+BG3gPXiiy8qMTFRvXr1UvPmzTV69GiNGjWKHxhct1w9VyMXSI6Onjc68JG0PsGymgAAVZvbOVhPPfWU9uzZo3//+9+65557NG/ePMXExKh///5at26dLl265Is6Ad9zdJRiSnlE3OTr6gAAVUipJ7l37NhRr776qo4fP67ly5frzJkzGjp0qBo3bqxnn31W3333nZV1AgAA+I0yryI0DENbtmzRqlWrtGfPHt14440aMGCAVq1apVtuuUVvv/22VXUCAAD4DY8BKy0tTc8//7xiYmJ07733Ki8vT8uXL9exY8f01ltvKS0tTU899ZSmTZtmdb0AAABVnttJ7r169dJnn32myMhIjR49Wo8++qgcDkeJbQICAvTAAw9o3rx5lhUKAADgL9wCVnh4uNavX6977rlHAQGljyDGxsbq8OHDXi0OAADAH7kFrPfff79CL6xVq5aaN29uekEAAAD+zq2LatWqVZo7d67HjefNm6c1a9Z4vSgAAAB/5taDNXPmTMXHx3vcuFatWpo1a5aGDBni7boAS5U1FQ7T4AAArpZbwDp8+LDat2/vceO2bdvq0KFDXi8KsBJT4QAAzOYWsGrVqqWTJ0963Dg7O1s1atTwelGAlcqdCodpcAAAV8ktYPXs2VOzZ8/WwIEDVbt2bdfy8+fP609/+pPi4uIsLRCwTPFUOD/nPGh9LQAAv+bxHKw77rhDzZs31wMPPKCoqCgdP35cq1atUkFBgZYuXeqLOgEAAPyGW8Bq06aNkpKS9Pzzz2vZsmU6ffq06tWrp7vuuksJCQlq3bq1L+oEAADwG24BS5JatWql9957z+paAAAAqoUyJ3sGAADA1XPrwTIMQ4mJiVq9erWOHTumCxculFhvs9m4VQMAAEAZ3ALW1KlT9dJLL6lbt2664447VKtWLV/UBQAA4LfcAtY777yj6dOna/r06b6oBwAAwO+5nYN1/vx5de/e3Re1AAAAVAtuAWv48OHauHGjL2oBAACoFtyGCHv06KFp06bp5MmT6tu3r8LDw91edN9991lSHAAAgD9yC1jDhw+XJKWnp2vZsmVuL7DZbPrxxx+9XxkAAICfcgtYhw8f9kUdAAAA1YZbwGrevLkv6gAAAKg2Sr2T++bNmzVr1iw98cQTyszMlCR9/vnncjqdlhUHAADgj9x6sHJycnT//ffr888/V2RkpJxOp8aMGaPo6GgtXLhQYWFhev31131RKwAAgF9w68F65plndPz4ce3fv1/p6ekyDMO1rm/fvtqyZYulBQIAAPgbtx6sDRs2aOHChWrXrp3b1YIOh8M1XAgAAADP3HqwioqKFBIS4nHjM2fOqGbNml4vCgAAwJ+5BawuXbpo8eLFHjdeuXKlunXr5u2aAAAA/JpbwPrf//1fffDBB+rTp48WLlwom82mDz/8UA8//LDWrVunhIQEUw5cWFio8ePHq2XLlmrfvr1GjBgh6cp9uO688061atVKnTt31jfffGPK8QAAAKziFrC6deumzZs3q7CwUE899ZQMw9Dvf/97paWl6dNPP9Xtt99uyoGnTJkim82mb7/9Vl9//bXmzJkjSRo3bpzGjh2rb7/9VpMnT1Z8fLwpxwMAALCK20nuktS9e3d9/vnnKigo0KlTp3TDDTcoNDTUtIMWFBRo0aJFOnbsmGw2mySpUaNGOnnypHbv3q1NmzZJkoYMGaLx48crNTVVLVq0MO34AAAA3uQxYBULDg5WcHCw6Qc9cuSI6tWrp5kzZ2rz5s2qXbu2EhISFB4ersjISAUGXinLZrPJ4XAoIyPDY8AqLCxUYWGh63lubq4kKS8vz/U3vKO4fatDO+fn5/u6hKuWn59fLdq+KqlOn+mqjra2Bu1snby8PLdlbgFr7Nix5e7ozTffrFQhly5d0tGjR9WmTRu9+OKL2rt3r/r27asNGzZc1X5mzZqlGTNmuC1v06ZNpepDxUVHR/u6hOtSXFycr0uotvhMW4e2tgbt7BtuAWvXrl1uG505c0ZOp1MRERFq1KhRpQ/qcDgUEBCg//7v/5YkdezYUTfddJOOHj0qp9OpS5cuKTAwUIZhKCMjQw6Hw+N+pk6dqokTJ7qe5+bmKjo6WsnJyWrcuHGl60Tpits6MzNTYWFhvi6nTNnZ2crOzi51/bfffqvf/OY3FlZUedu3b1dsbKyvy6hW/Okz7e9oa2vQztbJyspy69xxC1hff/21xxcfOHBAI0aM0KuvvlrpQurXr69f/OIX+uSTT9RdLsl8AAAa5UlEQVSvXz+lpaUpLS1N3bp1U6dOnbR06VLFx8drzZo1atKkSannX9ntdtntdrfloaGhfJgsEhYWVqXb2ul0qnXr1r4uw3QhISFVut39WVX/TFcntLU1aGfv8zQMW+Y5WD/Vrl07Pffcc5owYYL27t1b6WIWLFigRx99VJMnT1ZAQIAWLlyoxo0ba+HChYqPj9fMmTMVFhamxMTESh8L1y/X5OQjF0iOjp43OvCRtD7BspoAANVfhQOWJIWHh+vw4cOmHLhZs2baunWr2/LWrVt7HKYEKsXRUYopJWA5D1pbCwCg2nMLWJ66uS5evKiUlBQ9//zzatu2rSWFAQAA+Cu3gBUeHu66N9VPGYahqKgorV+/3pLCAAAA/JVbwHrzzTfdAlZQUJCaNGmiO++8k8meAQAAyuEWsMaMGeOLOgAAAKoNt7kIAQAAUDluPVg1a9b0eA5WaS5evGhqQQAAAP7OLWD94Q9/0Ouvv64aNWpo4MCBatiwobKzs7V+/XoZhqHx48erRo0avqgVAADAL7gFrLNnz6pDhw5av359iSD15z//Wffdd59OnTql2bNnW1okAACAP3ELWImJiVq8eLFbL1WNGjU0fvx4jRo1ioAF+FhKSkqp6+rXr1/q/J0AAGu4BayCggJlZGR43DgjI0MXLlzwelEASpGXI0kaMWJEqZsE1a6jQwdTCFkA4ENuAWvgwIGaPHmygoODNWjQIAUHB6ugoEDr1q3TlClTdN999/miTgCSlH8lYJU6t2J2ii4sildOTg4BCwB8yC1g/eUvf1F+fr5Gjhwpm82moKAgXbhwQYZhaMCAAfrLX/7iizoB/FRZcysCAHzOLWDVrVtX77//vr7++mv961//UnZ2tiIjI9W5c2e1b9/eFzUCAAD4FbeAVax9+/YEKgAAgGvg8U7uly5d0ltvvaVx48apX79+Sk1NlSStXr1ahw4dsrRAAAAAf+PWg5WWlqa+ffsqOztbHTp00BdffKHc3FxJ0pYtW7Rx40a9/fbblhcKAADgL9x6sCZMmKAbbrhB3333nbZv3y7DMFzrevXqpR07dlhaIAAAgL9x68HaunWrli1bpgYNGujHH38ssS4yMlLHjx+3rDgAAAB/5NaDFRAQUKLX6qdOnDihkJAQrxcFAADgz9wCVs+ePfXKK6/o0qVLrmU2m02S9NZbb6lPnz7WVQcAAOCH3IYIX3zxRXXr1k1t27bVoEGDZLPZtGDBAh04cEApKSn68ssvfVEnAACA33DrwWrbtq12796t22+/XYmJiZKkNWvWKDo6Wl9++aVatmxpeZEAAAD+pEQPlmEYysvLU0xMjJYtW+armgAAAPxaiR6soqIi1atXT5988omv6gEAAPB7JQJWrVq11Lhx41KvIgQAAED53M7BeuKJJ/TnP/9ZFy9e9EU9AAAAfs/tKsLs7GwdPHhQDodDffr0UcOGDV23aZCu3LJh7ty5lhYJAADgT9wC1urVq1WjRg3VqFFDO3fudHsBAQsAAKBsbgErMzPTF3UAAABUGwGSdOutt+rAgQMlVixfvlxnz571SVEAAAD+LECSDhw4oB9++MG18Mcff9TIkSP13Xff+awwAAAAf+V2FWExbtUAAABwbUoNWAAAALg2rpPcf3orhrKWAVWJ0+mU0+ksdX1KSoqF1QAAcIUrYPXu3VsBASU7tHr06OG2zGaz6dy5c9ZUB5TB6XQqKirK12UAAOAmUJKmT5/u6zqAq+bquRq5QHJ09LzRgY+k9QmW1QQAgETAQnXg6CjFlBKwnAetrQUAAHGSOwAAgOkIWAAAACYjYAEAAJiMgAUAAGAyAhYAAIDJCFgAAAAmI2ABAACYjIAFAABgMgIWAACAyXwesBITE2Wz2fT+++9Lkk6ePKm7775bLVu2VLt27bRjxw4fVwgAAHB1AsvfxHvS09P117/+VV27dnUtmzJlirp27aqPP/5YSUlJGjx4sNLS0lSzZk0fVgpvcDqd/5lPsBT169eXw+GwqCIAAMzhs4B1+fJljRkzRq+99pomTZrkWr5y5UqlpqZKkjp37qyoqCht375dd911l69KhRc4nU5FRUWVu11Q7To6dDCFkAUA8Cs+C1jz5s1Tt27ddNttt7mWnTp1SkVFRWrUqJFrWdOmTZWRkeFxH4WFhSosLHQ9z83NlSTl5eW5/oZ3FLfvtbbz4cOHr/wxcsGVyZo9yU7RhUXxSk9PV3h4uNvq/Pz8azr29SA/P59/A1epsp9pVBxtbQ3a2Tp5eXluy3wSsA4cOKA1a9ZU+vyqWbNmacaMGW7L27RpU6n9ouKio6MrtwNHRymmlID1f+Li4ip3jOsQbXbtKv2ZRoXR1tagnX3DJwFr586dSk9PV8uWLSVJ2dnZGjt2rGbMmKHAwEBlZ2e7erHS09NLHR6aOnWqJk6c6Hqem5ur6OhoJScnq3Hjxt5/I9ex4rbOzMxUWFjYVb9+3759FQ4B27dvV2xsbKX2cb0prc1Qusp+plFxtLU1aGfrZGVluXXu+CRgPf7443r88cddz3v16qVnnnlGgwYN0pdffqkFCxYoISFBSUlJysrKKvVH1G63y263uy0PDQ3lw2SRsLCwa2rrkJCQq9rW0zGuZh/Xm9LaDOW71s80rh5tbQ3a2fs8DcP69CpCT2bPnq2RI0eqZcuWqlWrlpYuXcoVhAAAwK9UiYC1bds2198NGzbUpk2bfFcMAABAJVWJgAXAXCkpKWWu5/5iAOBdBCygOsnLkSSNGDGizM24vxgAeBcBC6hO8q8ErIrcXywnJ4eABQBeQsACqqMK3F8MAOA9Pp/sGQAAoLohYAEAAJiMgAUAAGAyAhYAAIDJCFgAAAAmI2ABAACYjIAFAABgMgIWAACAyQhYAAAAJiNgAQAAmIyABQAAYDICFgAAgMkIWAAAACYjYAEAAJiMgAUAAGAyAhYAAIDJCFgAAAAmI2ABAACYLNDXBQDwjZSUlDLX169fXw6Hw6JqAKB6IWAB15u8HEnSiBEjytwsqHYdHTqYQsgCgGtAwAKuN/lXApZGLpAcHT1vk52iC4vilZOTQ8ACgGtAwAKuV46OUkwpAQsAUCmc5A4AAGAyAhYAAIDJCFgAAAAmI2ABAACYjIAFAABgMgIWAACAyQhYAAAAJiNgAQAAmIwbjcIrnE6nnE5nqevLmwcPAAB/RsCC6ZxOp6KionxdBgAAPkPAgulcPVdlzXV34CNpfYJlNQEAYCUCFrynrLnunAetrQUAAAtxkjsAAIDJCFgAAAAmI2ABAACYjIAFAABgMgIWAACAyQhYAAAAJiNgAQAAmIz7YKHKK21aHabb8b6y2rh+/fpyOBwWVgMA/oOAhaorL0eSNGLECB8Xch2qQNsH1a6jQwdTCFkA4IFPAtaFCxf00EMPKTk5WbVr11aDBg00f/58tWjRQidPntQjjzyiI0eOyG6364033lDPnj19USZ8Lf/Kj3ypU+4w3Y73lNf22Sm6sCheOTk5BCwA8MBnPVhjx47VPffcI5vNptdff11jxozRtm3bNGXKFHXt2lUff/yxkpKSNHjwYKWlpalmzZq+KhW+VtqUO0y3431lTXcEACiVT05yDwoKUr9+/WSz2SRJXbt2VXp6uiRp5cqVeuyxxyRJnTt3VlRUlLZv3+6LMgEAAK5JlTgH65VXXtHAgQN16tQpFRUVqVGjRq51TZs2VUZGhsfXFRYWqrCw0PU8NzdXkpSXl+f6G95R3L6e2jk/P9/qcuAj+fn51ebfWlmfaZiLtrYG7WydvLw8t2U+D1gzZ85UamqqtmzZovPnz1/Va2fNmqUZM2a4LW/Tpo1Z5aEc0dHRvi4BPhQXF+frEkzHZ9o6tLU1aGff8GnAmjNnjtauXavNmzerTp06qlOnjgIDA5Wdne3qxUpPTy/1JNqpU6dq4sSJrue5ubmKjo5WcnKyGjdubMl7uF4Vt3VmZqbCwsJKrNu3b1+1/OGFu+3btys2NtbXZZiirM80zEVbW4N2tk5WVpZb547PAta8efO0YsUKbd68WeHh4a7lw4YN04IFC5SQkKCkpCRlZWWV+mNtt9tlt9vdloeGhvJhskhYWJhbW4eEhPioGlgtMzOzzP/e/nivLE+faXgHbW0N2tn7PA3D+iRgHTt2TJMmTVKzZs3Uu3dvSVfC0pdffqnZs2dr5MiRatmypWrVqqWlS5dyBSFQ1VTwHmXcKwvA9conAatJkyYyDMPjuoYNG2rTpk0WVwTgqpR3nyyJe2UBuK75/CR3AH6skvfJcjqdcjqdZW7jj8OMAEDAAuATTqdTUVFR5W7HMCMAf0TAAuATrp4rhhkBVEMELFyT7OxsSVduyfDzq8hSUlJ8URL8FdPxAKiGCFi4ak6nU61bt5ZUPW80CQBAZRGwcNXKHdo58JG0PsHSmgAAqEoIWLh2pQ3tOA9aXwsAAFVIgK8LAAAAqG7owQLgVaVd9HA1F0OUty33ygJQ1RCwAHhHBafTMWMf3CsLQFVDwALgHeVNp1ORiyGYkgeAnyJgAfAuMy6G4F5ZAPwMJ7kDAACYjIAFAABgMgIWAACAyQhYAAAAJiNgAQAAmIyrCP2I0+n8zzyApajIDRfL2w83bQQAoHIIWH7C6XQqKiqq3O3Ku+FiRfbDTRsBAKgcApafcPU4VfKGi+Xuh5s2AgBQaQQsf2PWDRe5cSMAAF7DSe4AAAAmowcLQLWQkpJS6jou3ABgNQIWAP+Wd2VC6BEjRpS6CRduALAaAQuAf8u/ErC4cANAVULAAlA9cOEGgCqEk9wBAABMRsACAAAwGUOEAK4LZV1lKEl2u73cfZQ3zdSPP/6oGjVqlLkPrmgErg8ELADVWwWuMpQke+06Za6v6HRV5eGKRuD6QMACUL2Vd5WhJGWnqHBRfJm7KXeaqQMfSesTKj2dFYDqgYBVDZU1FFLeMAlQbVXwKsN9+/YpJCTEbbnr305p+3EevKrjAKjeCFjVSQWHQgD8zP/925GkuLg4HxYCoLogYFUnFRkKKR7GAPAf/NsBYDICVnVU1hBF8TBGORhmxHXJhH87FVEV5k0s74pIK2sBqiMCFkpimBHwnioyb2JFr4jkikfg2hGwUBJDJYD3WDhvYlk9VK4etEpe8UgvGFA6AhY8s2ioBLgueflKwwrfs6sSddALBpSNgAUA1UyF79nlzWNI3PcL1zUCFgBUMeVdSFLelDwVvmdXJWop9xhXobyhRrOGGc04jlW1wv8RsACgqqhKF5lYVEtFhhrNGGY04zhW1YrqgYAFAFXF1Vxk4u0LUcqrxaSLXcodajRpmNGM41hVK6oHApZJvN31zL2ngOtIRS4ysepCFC8MM+bn50u6Mi1RZmZm2ccxmxnHqeQ+KnL1ZXnDwFVp2BSeEbBMYFXXMwD4lXKGGa/HaYnM+q6vKsOmKB0BywSWdD1z7ykA/ob76rmp0NWX5Q0DV6FhU5SOgGWmcrqNKzT9jAnd8QBQpXh5+i7JvKEsy6YJq+wwcAXqyc3NlXRlKDYkJKT011s1PHudIWBZoSpdGQQA/qSC35+VHsryp+/pq6z1ehyKrQqqZMA6fPiwRo0apZycHNWtW1eLFy9W27ZtvXIsS6Z6oJscAK5NRb4/zRjK8qfvaYuvNq1s76EZJ/VXZBszejHNzARVMmCNGzdOY8eOVXx8vFavXq34+HglJSWZfhzLp3pg+hkAuDZV4SrDqvY97e2rTU3oPbTyAq7K/labnQmqXMA6efKkdu/erU2bNkmShgwZovHjxys1NVUtWrQw9VhM9QAAQClM6D005aT+imxjwm+12ZmgygWszMxMRUZGKjDwSmk2m00Oh0MZGRluAauwsFCFhYWu5+fOnZOkcrv3ip04ceL//jKkwnzPG108L0lasmSJNm/e7HGTrKysK39k7PG8n+yUstdXZBsz9mHVcfypVquO40+1WnUcf6rVquNQ67Xt48S3kqrA97QZdVTkOFa3fSV+I13vt6x9FF2o/DYV+K2WpNq1a+v8+fMe11Wo1lKOU5w/DMP4z7ZGFbN7926jVatWJZZ17tzZ2LJli9u206dPN660BA8ePHjw4MGDh28fR44ccWUUm2H8NG753smTJ9WiRQudPn1agYGBMgxDkZGR+uyzz8rtwTp79qxiYmKUkZGhunXrWl36dSU3N1fR0dHKzMxUWFiYr8uptmhn69DW1qGtrUE7W+fcuXNyOBw6c+aMwsPDJVXBIcIGDRqoU6dOWrp0qeLj47VmzRo1adLE4/lXdrtddrvdbXndunX5MFkkLCyMtrYA7Wwd2to6tLU1aGfrBAQEuP6ucgFLkhYuXKj4+HjNnDlTYWFhSkxM9HVJAAAAFVYlA1br1q21a9cuX5cBAABwTWokJCQk+LoIM9WoUUO9evVyXYUI76GtrUE7W4e2tg5tbQ3a2To/b+sqd5I7AACAvwsofxMAAABcDQIWAACAyQhYAAAAJqs2AevChQsaNGiQWrVqpQ4dOqhv375KTU31dVnV1tNPP62mTZvKZrNp3759vi6nWjp8+LDuvPNOtWrVSp07d9Y333zj65KqLT7P1uB72lq//OUvdeuttyo2NlY9evTQ3r17fV1StZaYmCibzab3339fUjUKWJI0duxYHTp0SPv379fAgQM1ZswYX5dUbQ0dOlSfffaZYmJifF1KtTVu3DiNHTtW3377rSZPnqz4+Hhfl1Rt8Xm2Dt/T1lm5cqW++uor7du3TxMnTuQ7xIvS09P117/+VV27dnUtqzYBKygoSP369ZPNZpMkde3aVenp6b4tqhrr2bOnmjRp4usyqq2TJ09q9+7dGjFihCRpyJAhyszM5P/2vYTPszX4nrZW8ZQt0pWpXIrbHea6fPmyxowZo9dee63E7DLV9sYYr7zyigYOHOjrMoBrkpmZqcjIyP/cT8Vmk8PhUEZGhsdpowB/xPe09z3yyCPaunWrJGnjxo0+rqZ6mjdvnrp166bbbrutxPJqGbBmzpyp1NRUbdmyxdelAAA84HvaGu+8844kacmSJZo8eTIhy2QHDhzQmjVrtGPHDrd1fj1E+M477yg2NlaxsbGu+QrnzJmjtWvX6qOPPlKdOnV8XGH14amt4T3R0dFyOp26dOmSJMkwDGVkZMjhcPi4MqDy+J623qhRo7R161adOnXK16VUKzt37lR6erpatmyppk2b6osvvtDYsWM1f/58yahG5s6da3Tq1Mk4ffq0r0u5bsTExBh79+71dRnVUlxcnJGYmGgYhmGsWrXKuO2223xb0HWAz7P38T1tjTNnzhhZWVmu5+vWrTMaN25sXL582YdVVX9xcXHGunXrDMMwjGozVc6xY8cUHR2tZs2aKTQ0VJJkt9v15Zdf+riy6mncuHHasGGDsrOzFRERodDQUE7ANtmhQ4cUHx+vU6dOKSwsTImJiWrfvr2vy6qW+Dxbg+9p6xw9elTDhg3T+fPnFRAQoBtvvFFz5sxRbGysr0ur1nr16qVnnnlGgwYNYi5CAAAAs/n1OVgAAABVEQELAADAZAQsAAAAkxGwAAAATEbAAgAAMBkBCwAAwGQELAAAAJMRsAD4pQ4dOshms2nnzp0+Of7ixYu1fPlynxwbQNVHwALgd7755ht99dVXkuSzkEPAAlAWAhYAv7Ns2TIFBASod+/eWrVqlYqKinxdEgCUQMAC4FcMw9CKFSvUp08fTZw4UadOndLHH3/sWl9UVKTf/va3cjgcstvtioyM1IABA3Tu3LkKrZeks2fP6oknnlBkZKTsdrtuu+02bdq0ybW+V69e2r59uzZs2CCbzSabzaaEhARJ0ueff66ePXuqbt26Cg0NVfv27bVkyRJrGgdAlRHo6wIA4Gr885//VHp6ul544QX96le/UkREhJYvX64BAwZIkmbNmqUFCxZo9uzZatu2rXJycrRp0yYVFhZWaP3FixfVt29fnThxQn/84x/VuHFjLV26VP3799eePXvUvn17vfHGGxoxYoTq1KmjOXPmSJKaNGmi3Nxc9e/fX927d9eKFStkt9uVnJyss2fP+qaxAPgMkz0D8CtPPvmk3n77bWVnZ6tu3bp67LHH9O677+rEiRMKCQnRvffeK7vdrjVr1nh8fXnrExMTNXbsWO3fv19t2rRxLe/atascDodWrlwp6UovVkhIiP7+97+7ttm9e7c6d+6sr776Su3btzfxXQPwNwwRAvAbly5d0qpVq9SvXz/VrVtXkjR8+HD98MMPWrdunSSpU6dO2rhxoxISEpSUlKTLly+X2Ed56zdt2qT27durVatWunTpkuvRt29fJSUllVlf8+bNFRYWpscff1wrV67U999/b+K7B+BPCFgA/MamTZv0/fffa8CAATp79qzOnj2r9u3bKzIy0nVF3+9+9ztNnjxZS5YsUZcuXdSoUSPNmDFDxZ315a3PycnR3r17VbNmzRKPP/zhD8rMzCyzvhtuuEGffvqpQkNDNXLkSDVq1Ei9evXS119/7d2GAVDlMEQIwG+MGDFCy5Yt87guMDBQWVlZatCggWtZamqq3n77bc2aNUvvvPOORo4cWeI1ntY/+OCDOnjwoBYtWuTxOLfffrskz0OEP3X+/Hlt3bpVzz77rAoLC3XkyJFrecsA/BQnuQPwCz/88IPWr1+vQYMGacKECSXWZWdn6+GHH9Z7772np556yrW8RYsWmjlzphYuXKiUlBS3fXpaf9ddd2njxo2KiopSVFRUqfXUqlVLFy5cKHV97dq11a9fPx05ckQTJkzQhQsXFBQUdLVvG4CfImAB8Avr169Xfn6+nn76afXq1ctt/UsvvaTly5dry5Ytuu2229SxY0cFBwfrww8/1JkzZ9SnTx9J0qBBg8pc/8gjj2jhwoXq1auXnn32WbVq1Upnz57V3r17dfHiRc2aNUuSdMstt2jJkiX68MMPFRkZqaioKO3du1eLFi3S4MGD5XA4lJ2drddee03dunUjXAHXGwMA/MC9995rOBwO4/Llyx7Xv/zyy4Yk48UXXzRuv/12o27dukZwcLDRqVMnY/ny5a7tXnrppTLXG4ZhnDt3zvif//kfw+FwGDVr1jQiIyONfv36GX//+99d2xw7dszo16+fER4ebkgypk+fbhw8eNAYMmSIER0dbdjtdiMqKsqIj483nE6ndxoFQJXFOVgAAAAm4ypCAAAAkxGwAAAATPb/AUfEHM/oc7VSAAAAAElFTkSuQmCC\" />"
      ]
     },
     "execution_count": 45,
     "metadata": {},
     "output_type": "execute_result"
    }
   ],
   "source": [
    "using Plots\n",
    "histogram(assets_end,nbins=80,xlims=(-2.0,4.0), ylims=(0.0,120.0), label=\"\", xlabel=\"Assets\", ylabel=\"Frequency\", title=\"Assets Distribution\")\n"
   ]
  },
  {
   "cell_type": "code",
   "execution_count": 46,
   "metadata": {
    "collapsed": false,
    "deletable": true,
    "editable": true
   },
   "outputs": [
    {
     "data": {
      "text/html": [
       "-0.00468303900072091"
      ],
      "text/plain": [
       "-0.00468303900072091"
      ]
     },
     "execution_count": 46,
     "metadata": {},
     "output_type": "execute_result"
    }
   ],
   "source": [
    "mean(assets_end)"
   ]
  }
 ],
 "metadata": {
  "kernelspec": {
   "display_name": "Julia 0.5.1",
   "language": "julia",
   "name": "julia-0.5"
  },
  "language_info": {
   "file_extension": ".jl",
   "mimetype": "application/julia",
   "name": "julia",
   "version": "0.5.1"
  }
 },
 "nbformat": 4,
 "nbformat_minor": 2
}
